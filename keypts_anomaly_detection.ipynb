{
 "cells": [
  {
   "cell_type": "code",
   "execution_count": 68,
   "id": "b60291ba",
   "metadata": {},
   "outputs": [],
   "source": [
    "import torch\n",
    "import numpy as np\n",
    "import os\n",
    "import json\n",
    "from types import SimpleNamespace\n",
    "\n",
    "import sys\n",
    "sys.path.insert(4,'STG_NF')\n",
    "\n",
    "from STG_NF.models.STG_NF.model_pose import STG_NF\n",
    "from STG_NF.utils.train_utils import init_model_params\n",
    "from STG_NF.dataset import get_dataset_and_loader\n",
    "from STG_NF.utils.data_utils import trans_list\n",
    "\n",
    "from STG_NF_utils import save_predicted_scores_only\n",
    "\n",
    "# for drawing video output\n",
    "import cv2\n",
    "from video_inference_utils import draw_keypoints\n",
    "\n",
    "import matplotlib.pyplot as plt"
   ]
  },
  {
   "cell_type": "code",
   "execution_count": 2,
   "id": "003e558a",
   "metadata": {},
   "outputs": [
    {
     "name": "stdout",
     "output_type": "stream",
     "text": [
      "Loading datasets...\n"
     ]
    },
    {
     "name": "stderr",
     "output_type": "stream",
     "text": [
      "100%|██████████| 9/9 [00:05<00:00,  1.69it/s]\n"
     ]
    },
    {
     "name": "stdout",
     "output_type": "stream",
     "text": [
      "\n",
      "Model Structure:\n"
     ]
    },
    {
     "data": {
      "text/plain": [
       "STG_NF(\n",
       "  (flow): FlowNet(\n",
       "    (layers): ModuleList(\n",
       "      (0): FlowStep(\n",
       "        (actnorm): ActNorm2d()\n",
       "        (reverse): Permute2d()\n",
       "        (block): ModuleList(\n",
       "          (0): st_gcn(\n",
       "            (gcn): ConvTemporalGraphical(\n",
       "              (conv): Conv2d(1, 2, kernel_size=(1, 1), stride=(1, 1))\n",
       "            )\n",
       "            (tcn): Sequential(\n",
       "              (0): BatchNorm2d(2, eps=1e-05, momentum=0.1, affine=True, track_running_stats=True)\n",
       "              (1): ReLU(inplace=True)\n",
       "              (2): Conv2d(2, 2, kernel_size=(13, 1), stride=(1, 1), padding=(6, 0))\n",
       "              (3): BatchNorm2d(2, eps=1e-05, momentum=0.1, affine=True, track_running_stats=True)\n",
       "            )\n",
       "            (relu): ReLU(inplace=True)\n",
       "          )\n",
       "        )\n",
       "      )\n",
       "      (1-7): 7 x FlowStep(\n",
       "        (actnorm): ActNorm2d()\n",
       "        (reverse): Permute2d()\n",
       "        (block): ModuleList(\n",
       "          (0): st_gcn(\n",
       "            (gcn): ConvTemporalGraphical(\n",
       "              (conv): Conv2d(1, 2, kernel_size=(1, 1), stride=(1, 1))\n",
       "            )\n",
       "            (tcn): Sequential(\n",
       "              (0): BatchNorm2d(2, eps=1e-05, momentum=0.1, affine=True, track_running_stats=True)\n",
       "              (1): ReLU(inplace=True)\n",
       "              (2): Conv2d(2, 2, kernel_size=(13, 1), stride=(1, 1), padding=(6, 0))\n",
       "              (3): BatchNorm2d(2, eps=1e-05, momentum=0.1, affine=True, track_running_stats=True)\n",
       "            )\n",
       "            (residual): Sequential(\n",
       "              (0): Conv2d(1, 2, kernel_size=(1, 1), stride=(1, 1))\n",
       "              (1): BatchNorm2d(2, eps=1e-05, momentum=0.1, affine=True, track_running_stats=True)\n",
       "            )\n",
       "            (relu): ReLU(inplace=True)\n",
       "          )\n",
       "        )\n",
       "      )\n",
       "    )\n",
       "  )\n",
       ")"
      ]
     },
     "execution_count": 2,
     "metadata": {},
     "output_type": "execute_result"
    }
   ],
   "source": [
    "# === Paths to model weights and input/output directories ===\n",
    "ARGS_JSON_PATH = 'weights/STG_NF/args.json'\n",
    "CHECKPOINT_PATH = 'weights/STG_NF/Jul01_2235__checkpoint.pth.tar' # path to the pretrained .tar file\n",
    "INPUT_JSON_DIR_PATH = \"STG_NF/data/PoseLift/pose/test\"  # path to the directory containing the json files to be inputted\n",
    "OUTPUT_CSV_DIR = \"video_output/STG_NF_predicted_csv/\"\n",
    "os.makedirs(OUTPUT_CSV_DIR, exist_ok=True)\n",
    "\n",
    "# === Step 1: Load args from args.json ===\n",
    "with open(ARGS_JSON_PATH, 'r') as f:\n",
    "    loaded_args = json.load(f)\n",
    "args = SimpleNamespace(**loaded_args)\n",
    "\n",
    "# Fix or add any runtime-specific fields\n",
    "args.device = torch.device(\"cuda\" if torch.cuda.is_available() else \"cpu\")\n",
    "args.checkpoint = CHECKPOINT_PATH\n",
    "args.only_test = True\n",
    "args.specific_clip = None  # If you want all files\n",
    "args.save_results = True\n",
    "args.directory = OUTPUT_CSV_DIR\n",
    "\n",
    "args.pose_path={'test': INPUT_JSON_DIR_PATH}\n",
    "\n",
    "# === Step 2: Load dataset and model ===\n",
    "print('Loading datasets...')\n",
    "dataset, loader = get_dataset_and_loader(args, trans_list=trans_list, only_test=True)\n",
    "\n",
    "# Load checkpoint\n",
    "checkpoint = torch.load(CHECKPOINT_PATH, map_location=args.device,weights_only=False)\n",
    "ckpt_args = checkpoint['args']\n",
    "if hasattr(ckpt_args, '__dict__'):\n",
    "    ckpt_args = SimpleNamespace(**vars(ckpt_args))\n",
    "\n",
    "# Manually patch arguments from checkpoint (needed by init_model_params)\n",
    "ckpt_args.device = args.device\n",
    "ckpt_args.model_confidence = getattr(ckpt_args, 'model_confidence', False)\n",
    "ckpt_args.edge_importance = getattr(ckpt_args, 'edge_importance', False)\n",
    "ckpt_args.model_hidden_dim = getattr(ckpt_args, 'model_hidden_dim', 128)\n",
    "ckpt_args.adj_strategy = getattr(ckpt_args, 'adj_strategy', 'uniform')\n",
    "ckpt_args.temporal_kernel = getattr(ckpt_args, 'temporal_kernel', 13)\n",
    "ckpt_args.seg_len = args.seg_len\n",
    "ckpt_args.norm_scale = args.norm_scale\n",
    "ckpt_args.max_hops = getattr(ckpt_args, 'max_hops', 1)\n",
    "\n",
    "# Build and load model\n",
    "model_params = init_model_params(ckpt_args, dataset)\n",
    "print('\\nModel Structure:')\n",
    "model = STG_NF(**model_params).to(args.device)\n",
    "model.load_state_dict(checkpoint['state_dict'], strict=False)\n",
    "model.set_actnorm_init()\n",
    "model.eval()"
   ]
  },
  {
   "cell_type": "code",
   "execution_count": 3,
   "id": "3760806b",
   "metadata": {},
   "outputs": [],
   "source": [
    "# === Step 3: Run inference and collect normality scores ===\n",
    "# Inference\n",
    "all_scores = []\n",
    "with torch.no_grad():\n",
    "    for data_arr in loader['test']:\n",
    "        data = [d.to(args.device, non_blocking=True) for d in data_arr]\n",
    "        samp = data[0][:, :2]\n",
    "        score = data[-2].amin(dim=-1)\n",
    "        label = data[-1]\n",
    "        _, nll = model(samp.float(), label=label, score=score)\n",
    "        all_scores.append(-nll.cpu())\n",
    "\n",
    "normality_scores = torch.cat(all_scores, dim=0).squeeze().numpy().copy(order='C')\n"
   ]
  },
  {
   "cell_type": "code",
   "execution_count": 7,
   "id": "2688aaae",
   "metadata": {},
   "outputs": [
    {
     "name": "stdout",
     "output_type": "stream",
     "text": [
      "Saved: video_output/STG_NF_predicted_csv/07_0100_alphapose_tracked_person.csv  (258 frames)\n",
      "Saved: video_output/STG_NF_predicted_csv/07_0500_alphapose_tracked_person.csv  (301 frames)\n",
      "Saved: video_output/STG_NF_predicted_csv/07_0800_alphapose_tracked_person.csv  (1307 frames)\n",
      "Saved: video_output/STG_NF_predicted_csv/07_1100_alphapose_tracked_person.csv  (1135 frames)\n",
      "Saved: video_output/STG_NF_predicted_csv/08_0100_alphapose_tracked_person.csv  (894 frames)\n",
      "Saved: video_output/STG_NF_predicted_csv/08_0200_alphapose_tracked_person.csv  (1135 frames)\n",
      "Saved: video_output/STG_NF_predicted_csv/08_0300_alphapose_tracked_person.csv  (1135 frames)\n",
      "Saved: video_output/STG_NF_predicted_csv/09_0200_alphapose_tracked_person.csv  (396 frames)\n",
      "Saved: video_output/STG_NF_predicted_csv/10_0200_alphapose_tracked_person.csv  (293 frames)\n"
     ]
    }
   ],
   "source": [
    "# Save the prediction results as CSVs\n",
    "\n",
    "json_names = [js.split('.')[0] for js in os.listdir(\"STG_NF/data/PoseLift/pose/test\") if js.endswith('.json')]\n",
    "clip_scores = {}\n",
    "for js in json_names:\n",
    "\n",
    "    clip_score = save_predicted_scores_only(\n",
    "    scores=normality_scores,\n",
    "    metadata=dataset['test'].metadata,\n",
    "    seg_len=args.seg_len,\n",
    "    save_dir=OUTPUT_CSV_DIR,\n",
    "    specific_clip=js\n",
    "    )\n",
    "    clip_scores[js] = clip_score\n"
   ]
  },
  {
   "cell_type": "code",
   "execution_count": 80,
   "id": "eff9186c",
   "metadata": {},
   "outputs": [
    {
     "name": "stdout",
     "output_type": "stream",
     "text": [
      "Example plot of the abnormal score result for the video 09_0200_alphapose_tracked_person.mp4\n"
     ]
    },
    {
     "data": {
      "image/png": "[encoded data removed]",
      "text/plain": [
       "<Figure size 700x400 with 1 Axes>"
      ]
     },
     "metadata": {},
     "output_type": "display_data"
    }
   ],
   "source": [
    "video_to_plot = '09_0200_alphapose_tracked_person'\n",
    "\n",
    "print('Example plot of the abnormal score result for the video {}.mp4'.format(video_to_plot))\n",
    "plt.figure(figsize=(7,4))\n",
    "plt.plot(clip_scores[video_to_plot])\n",
    "plt.ylabel('Normality score')\n",
    "plt.xlabel('Frame Number')\n",
    "plt.show()"
   ]
  },
  {
   "cell_type": "markdown",
   "id": "182caed3",
   "metadata": {},
   "source": [
    "### Show the 'abnormal poses' in red in video output"
   ]
  },
  {
   "cell_type": "code",
   "execution_count": null,
   "id": "45a8e8e1",
   "metadata": {},
   "outputs": [
    {
     "name": "stdout",
     "output_type": "stream",
     "text": [
      "Saved video with normal/abnormal poses to: video_output\\Normal_Videos313_x26_anomaly_det.mp4\n",
      "Saved video with normal/abnormal poses to: video_output\\Normal_Videos314_x26_anomaly_det.mp4\n",
      "Saved video with normal/abnormal poses to: video_output\\shoplifting1_anomaly_det.mp4\n",
      "Saved video with normal/abnormal poses to: video_output\\shoplifting2_anomaly_det.mp4\n"
     ]
    }
   ],
   "source": [
    "# Plotting the video output...\n",
    "\n",
    "# In the video, the colors of \n",
    "# - Normal pose (no shoplifting): Green \n",
    "# - Abnormal pose (shoplifting suspected): Red \n",
    "\n",
    "video_name_map = {\n",
    "    'Normal_Videos313_x264':'07',\n",
    "    'Normal_Videos314_x264':'08',\n",
    "    'shoplifting1':'09',\n",
    "    'shoplifting2':'10'\n",
    "} # used to match the STG-NF model format in pose_est_video_tracking.ipynb\n",
    "\n",
    "npzs = [os.path.join('video_output',npz) for npz in os.listdir('video_output') if npz.endswith('.npz')]\n",
    "clip_cnt={clip_name: 0 for clip_name in clip_scores}\n",
    "abnormal_threshold = -2.7 # pose with score lower than this will be classfied as 'abnormal' (shoplifting suspected)\n",
    "for npz_path in npzs:\n",
    "\n",
    "    video_id = video_name_map[os.path.basename(npz_path).rstrip('.npz')]\n",
    "\n",
    "    loaded = np.load(npz_path,allow_pickle=True)\n",
    "    video_path = loaded['video_path'].flatten()[0]\n",
    "    track_sessions = loaded['track_sessions'].flatten()[0]\n",
    "    output_path = loaded['output_path'].flatten()[0]\n",
    "    output_path = output_path.rstrip('_track.mp4')+'_anomaly_det.mp4'\n",
    "\n",
    "    cap = cv2.VideoCapture(video_path)\n",
    "    fourcc = cv2.VideoWriter_fourcc(*'mp4v')\n",
    "    fps = cap.get(cv2.CAP_PROP_FPS)\n",
    "    W = int(cap.get(cv2.CAP_PROP_FRAME_WIDTH))\n",
    "    H = int(cap.get(cv2.CAP_PROP_FRAME_HEIGHT))\n",
    "    out = cv2.VideoWriter(output_path, fourcc, fps, (W, H))\n",
    "\n",
    "    track_start_indices = {}\n",
    "    track_start_indices_ind = {}\n",
    "    tracker_ids = list(track_sessions.keys())\n",
    "    for tracker_id in tracker_ids:\n",
    "        track_start_indices[tracker_id] = sorted(list(track_sessions[tracker_id].keys()))\n",
    "        track_start_indices_ind[tracker_id] = 0\n",
    "\n",
    "    frame_idx = 0\n",
    "    while cap.isOpened():\n",
    "        ret, frame = cap.read()\n",
    "        if not ret:\n",
    "            break\n",
    "        \n",
    "        for tracker_id in tracker_ids:\n",
    "\n",
    "            start_indices_ind = track_start_indices_ind[tracker_id]\n",
    "            curr_start_ind = track_start_indices[tracker_id][start_indices_ind]\n",
    "            curr_end_ind = track_sessions[tracker_id][curr_start_ind][0]\n",
    "\n",
    "            if curr_start_ind<=frame_idx<=curr_end_ind:\n",
    "\n",
    "                curr_smoothened_kpts = track_sessions[tracker_id][curr_start_ind][1]\n",
    "\n",
    "                clip_name = video_id+'_'+str(f'{int(100*tracker_id):04}')+'_alphapose_tracked_person'\n",
    "                if clip_cnt[clip_name]<len(clip_scores[clip_name]):\n",
    "                    abnormal_score = clip_scores[clip_name][clip_cnt[clip_name]]\n",
    "                    coloring = (0,0,255) if abnormal_score < abnormal_threshold else (0,255,0)\n",
    "                    clip_cnt[clip_name]+=1\n",
    "                else:\n",
    "                    coloring = (0,255,0)\n",
    "\n",
    "                frame = draw_keypoints(frame, curr_smoothened_kpts[frame_idx-curr_start_ind], color=coloring)\n",
    "                if frame_idx==curr_end_ind and start_indices_ind<len(track_start_indices[tracker_id])-1:\n",
    "                    track_start_indices_ind[tracker_id]+=1\n",
    "        out.write(frame)\n",
    "        frame_idx += 1\n",
    "\n",
    "    cap.release()\n",
    "    out.release()\n",
    "    print(f\"Saved video with normal/abnormal poses to: {output_path}\")\n"
   ]
  },
  {
   "cell_type": "code",
   "execution_count": null,
   "id": "bf5fed5f",
   "metadata": {},
   "outputs": [],
   "source": []
  },
  {
   "cell_type": "code",
   "execution_count": null,
   "id": "95024222",
   "metadata": {},
   "outputs": [],
   "source": []
  },
  {
   "cell_type": "code",
   "execution_count": null,
   "id": "ddb3cf37",
   "metadata": {},
   "outputs": [],
   "source": []
  }
 ],
 "metadata": {
  "kernelspec": {
   "display_name": "STG-NF",
   "language": "python",
   "name": "python3"
  },
  "language_info": {
   "codemirror_mode": {
    "name": "ipython",
    "version": 3
   },
   "file_extension": ".py",
   "mimetype": "text/x-python",
   "name": "python",
   "nbconvert_exporter": "python",
   "pygments_lexer": "ipython3",
   "version": "3.10.18"
  }
 },
 "nbformat": 4,
 "nbformat_minor": 5
}
